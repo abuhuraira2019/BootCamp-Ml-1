{
 "cells": [
  {
   "cell_type": "markdown",
   "id": "1f48d5c9",
   "metadata": {},
   "source": [
    "# 1. Create a Dictionary from Two Lists\n",
    "\n",
    "## Problem Statement:\n",
    "Write a function to create a dictionary from two lists of equal length, one for keys and one for values.\n",
    "\n",
    "## Example 1:\n",
    "**Input:** `keys = ['a', 'b'], values = [1, 2]`  \n",
    "**Output:** `{'a': 1, 'b': 2}`\n",
    "\n",
    "## Example 2:\n",
    "**Input:** `keys = ['x'], values = [10]`  \n",
    "**Output:** `{'x': 10}`\n"
   ]
  },
  {
   "cell_type": "code",
   "execution_count": 262,
   "id": "3ea65a39",
   "metadata": {},
   "outputs": [],
   "source": [
    "\n",
    "def dictionary(keys,values):\n",
    "    d1=dict()\n",
    "    for a in range(len(keys)):\n",
    "        d1[keys[a]]=values[a]\n",
    "    \n",
    "    return d1\n",
    "    "
   ]
  },
  {
   "cell_type": "code",
   "execution_count": 263,
   "id": "116d7f17",
   "metadata": {},
   "outputs": [
    {
     "name": "stdout",
     "output_type": "stream",
     "text": [
      "{'a': 1, 'b': 2}\n"
     ]
    }
   ],
   "source": [
    "keys = ['a', 'b']\n",
    "values = [1, 2]\n",
    "print(dictionary(keys,values))"
   ]
  },
  {
   "cell_type": "markdown",
   "id": "9016196e",
   "metadata": {},
   "source": [
    "# 2. Merge Two Dictionaries\n",
    "\n",
    "## Problem Statement:\n",
    "Write a function to merge two dictionaries into one.\n",
    "\n",
    "## Example 1:\n",
    "**Input:** `{'a': 1}, {'b': 2}`  \n",
    "**Output:** `{'a': 1, 'b': 2}`\n",
    "\n",
    "## Example 2:\n",
    "**Input:** `{'x': 10}, {'y': 20, 'z': 30}`  \n",
    "**Output:** `{'x': 10, 'y': 20, 'z': 30}`\n"
   ]
  },
  {
   "cell_type": "code",
   "execution_count": 264,
   "id": "5ee5d659",
   "metadata": {},
   "outputs": [],
   "source": [
    "def merge(d1,d2):\n",
    "\n",
    "    for keys ,values in d2.items():\n",
    "        d1[keys]=values\n",
    "    return d1\n"
   ]
  },
  {
   "cell_type": "code",
   "execution_count": 265,
   "id": "d9d7b5b2",
   "metadata": {},
   "outputs": [
    {
     "name": "stdout",
     "output_type": "stream",
     "text": [
      "{'a': 1, 'b': 2}\n"
     ]
    }
   ],
   "source": [
    "input={'a': 1}\n",
    "input2={'b': 2}\n",
    "print(merge(input,input2))"
   ]
  },
  {
   "cell_type": "markdown",
   "id": "c6526c5c",
   "metadata": {},
   "source": [
    "# 3. Check if Key Exists\n",
    "\n",
    "## Problem Statement:\n",
    "Write a function to check if a specific key exists in a dictionary.\n",
    "\n",
    "## Example 1:\n",
    "**Input:** `{'a': 1}, 'a'`  \n",
    "**Output:** `True`\n",
    "\n",
    "## Example 2:\n",
    "**Input:** `{'b': 2}, 'a'`  \n",
    "**Output:** `False`\n"
   ]
  },
  {
   "cell_type": "code",
   "execution_count": 266,
   "id": "a04fa909",
   "metadata": {},
   "outputs": [],
   "source": [
    "def check(d1,value):\n",
    "    if value in d1.keys():\n",
    "        return True\n",
    "    return False\n",
    "    "
   ]
  },
  {
   "cell_type": "code",
   "execution_count": 267,
   "id": "b1ef4e37",
   "metadata": {},
   "outputs": [
    {
     "name": "stdout",
     "output_type": "stream",
     "text": [
      "False\n"
     ]
    }
   ],
   "source": [
    "dic={'a': 1}\n",
    "val=\"c\"\n",
    "print(check(dic,val))"
   ]
  },
  {
   "cell_type": "markdown",
   "id": "e72c9a22",
   "metadata": {},
   "source": [
    "# 4. Count Frequency of Elements\n",
    "\n",
    "## Problem Statement:\n",
    "Write a function to count the frequency of each element in a list using a dictionary.\n",
    "\n",
    "## Example 1:\n",
    "**Input:** `[1,2,2,3]`  \n",
    "**Output:** `{1:1, 2:2, 3:1}`\n",
    "\n",
    "## Example 2:\n",
    "**Input:** `['a','b','a']`  \n",
    "**Output:** `{'a':2, 'b':1}`\n",
    "\n",
    "\n"
   ]
  },
  {
   "cell_type": "code",
   "execution_count": 268,
   "id": "31fd888e",
   "metadata": {},
   "outputs": [],
   "source": [
    "def freq(lis):\n",
    "    freq=0\n",
    "    occurance={}\n",
    "    for i in lis:\n",
    "        freq=0\n",
    "        \n",
    "        for j in lis[:]:\n",
    "            if i==j:\n",
    "                freq+=1\n",
    "\n",
    "        occurance[i]=freq\n",
    "    return occurance"
   ]
  },
  {
   "cell_type": "code",
   "execution_count": 269,
   "id": "ad5808ba",
   "metadata": {},
   "outputs": [
    {
     "name": "stdout",
     "output_type": "stream",
     "text": [
      "{'a': 2, 'b': 1}\n"
     ]
    }
   ],
   "source": [
    "lis=['a','b','a']\n",
    "print(freq(lis))"
   ]
  },
  {
   "cell_type": "markdown",
   "id": "c1b74aa9",
   "metadata": {},
   "source": [
    "# 5. Reverse Dictionary (Unique Values)\n",
    "\n",
    "## Problem Statement:\n",
    "Write a function to reverse keys and values in a dictionary. Assume values are unique.\n",
    "\n",
    "## Example 1:\n",
    "**Input:** `{'a':1, 'b':2}`  \n",
    "**Output:** `{1:'a', 2:'b'}`\n",
    "\n",
    "## Example 2:\n",
    "**Input:** `{'x':'y'}`  \n",
    "**Output:** `{'y':'x'}`\n"
   ]
  },
  {
   "cell_type": "code",
   "execution_count": 270,
   "id": "df0a31ed",
   "metadata": {},
   "outputs": [],
   "source": [
    "def rev(d1):\n",
    "    d2={}\n",
    "    for keys,values in d1.items():\n",
    "        d2[values]=keys\n",
    "    return d2"
   ]
  },
  {
   "cell_type": "code",
   "execution_count": 271,
   "id": "ba3b7a1a",
   "metadata": {},
   "outputs": [
    {
     "name": "stdout",
     "output_type": "stream",
     "text": [
      "{1: 'a', 2: 'b'}\n"
     ]
    }
   ],
   "source": [
    "d1={'a':1, 'b':2}\n",
    "print(rev(d1))"
   ]
  },
  {
   "cell_type": "markdown",
   "id": "bfc01a37",
   "metadata": {},
   "source": [
    "# 6. Dictionary with Maximum Value\n",
    "\n",
    "## Problem Statement:\n",
    "Write a function that returns the key with the highest value in a dictionary.\n",
    "\n",
    "## Example 1:\n",
    "**Input:** `{'a':3, 'b':10}`  \n",
    "**Output:** `'b'`\n",
    "\n",
    "## Example 2:\n",
    "**Input:** `{'x':1, 'y':-5}`  \n",
    "**Output:** `'x'`\n"
   ]
  },
  {
   "cell_type": "code",
   "execution_count": 272,
   "id": "3ebfad1c",
   "metadata": {},
   "outputs": [],
   "source": [
    "def high_value(d1):\n",
    "    maximum=0\n",
    "    output=\"\"\n",
    "    for keys ,value in d1.items():\n",
    "\n",
    "        if maximum<value:\n",
    "            maximum=value\n",
    "            output=keys\n",
    "    return output\n",
    "\n"
   ]
  },
  {
   "cell_type": "code",
   "execution_count": 273,
   "id": "2aead54f",
   "metadata": {},
   "outputs": [
    {
     "name": "stdout",
     "output_type": "stream",
     "text": [
      "b\n"
     ]
    }
   ],
   "source": [
    "input={'a':3, 'b':10}\n",
    "print(high_value(input))"
   ]
  },
  {
   "cell_type": "markdown",
   "id": "2df1f7ab",
   "metadata": {},
   "source": [
    "# 7. Remove Key from Dictionary\n",
    "\n",
    "## Problem Statement:\n",
    "Write a function that removes a specified key from a dictionary.\n",
    "\n",
    "## Example 1:\n",
    "**Input:** `{'a':1, 'b':2}, 'a'`  \n",
    "**Output:** `{'b':2}`\n",
    "\n",
    "## Example 2:\n",
    "**Input:** `{'x':3, 'y':4}, 'z'`  \n",
    "**Output:** `{'x':3, 'y':4}`\n"
   ]
  },
  {
   "cell_type": "code",
   "execution_count": 274,
   "id": "ebc9c007",
   "metadata": {},
   "outputs": [],
   "source": [
    "def rem(d1,k):\n",
    "    d2={}\n",
    "    for a,v in d1.items():\n",
    "        if a != k:\n",
    "            \n",
    "            d2[a]=v\n",
    "    return d2"
   ]
  },
  {
   "cell_type": "code",
   "execution_count": 275,
   "id": "4c042f24",
   "metadata": {},
   "outputs": [
    {
     "name": "stdout",
     "output_type": "stream",
     "text": [
      "{'x': 3}\n"
     ]
    }
   ],
   "source": [
    "input={'x':3, 'y':4}\n",
    "k=\"y\"\n",
    "print(rem(input,k))\n"
   ]
  },
  {
   "cell_type": "markdown",
   "id": "542b30d7",
   "metadata": {},
   "source": [
    "# 8. Dictionary from String\n",
    "\n",
    "## Problem Statement:\n",
    "Write a function to count the occurrences of each character in a given string using a dictionary.\n",
    "\n",
    "## Example 1:\n",
    "**Input:** `\"hello\"`  \n",
    "**Output:** `{'h':1,'e':1,'l':2,'o':1}`\n",
    "\n",
    "## Example 2:\n",
    "**Input:** `\"abc\"`  \n",
    "**Output:** `{'a':1,'b':1,'c':1}`\n",
    "\n",
    "\n"
   ]
  },
  {
   "cell_type": "code",
   "execution_count": 276,
   "id": "1a0604ff",
   "metadata": {},
   "outputs": [],
   "source": [
    "def freq_counter(s1):\n",
    "    freq=0\n",
    "    occurance={}\n",
    "    for i in s1:\n",
    "        freq=0\n",
    "        \n",
    "        for j in s1[:]:\n",
    "            if i==j:\n",
    "                freq+=1\n",
    "\n",
    "        occurance[i]=freq\n",
    "    return occurance"
   ]
  },
  {
   "cell_type": "code",
   "execution_count": 277,
   "id": "e5c2d2a6",
   "metadata": {},
   "outputs": [
    {
     "name": "stdout",
     "output_type": "stream",
     "text": [
      "{'h': 1, 'e': 1, 'l': 2, 'o': 1}\n"
     ]
    }
   ],
   "source": [
    "input=\"hello\"\n",
    "print(freq_counter(input))"
   ]
  },
  {
   "cell_type": "markdown",
   "id": "b8bb6168",
   "metadata": {},
   "source": [
    "# 9. Update Value in Dictionary\n",
    "\n",
    "## Problem Statement:\n",
    "Write a function to update a value associated with a given key in a dictionary.\n",
    "\n",
    "## Example 1:\n",
    "**Input:** `{'a':1}, 'a', 100`  \n",
    "**Output:** `{'a':100}`\n",
    "\n",
    "## Example 2:\n",
    "**Input:** `{'x':10}, 'y', 20`  \n",
    "**Output:** `{'x':10, 'y':20}`\n"
   ]
  },
  {
   "cell_type": "code",
   "execution_count": 278,
   "id": "7a8a617e",
   "metadata": {},
   "outputs": [],
   "source": [
    "def update(d1,k,v):\n",
    "    d1[k]=v\n",
    "\n",
    "    return d1\n",
    "\n",
    "    "
   ]
  },
  {
   "cell_type": "code",
   "execution_count": 279,
   "id": "1345099a",
   "metadata": {},
   "outputs": [
    {
     "name": "stdout",
     "output_type": "stream",
     "text": [
      "{'x': 10, 'y': 20}\n"
     ]
    }
   ],
   "source": [
    "input={\"x\":10}\n",
    "k=\"y\"\n",
    "v=20\n",
    "print(update(input,k,v))"
   ]
  },
  {
   "cell_type": "markdown",
   "id": "8b580e88",
   "metadata": {},
   "source": [
    "# 10. Sort Dictionary by Values\n",
    "\n",
    "## Problem Statement:\n",
    "Write a function to sort a dictionary by values in ascending order.\n",
    "\n",
    "## Example 1:\n",
    "**Input:** `{'a':3, 'b':1}`  \n",
    "**Output:** `{'b':1, 'a':3}`\n",
    "\n",
    "## Example 2:\n",
    "**Input:** `{'x':4,'y':2}`  \n",
    "**Output:** `{'y':2, 'x':4}`\n"
   ]
  },
  {
   "cell_type": "code",
   "execution_count": 280,
   "id": "4cfc1e2c",
   "metadata": {},
   "outputs": [],
   "source": [
    "def sort_values(d1):\n",
    "    tup=list(d1.items())\n",
    "    \n",
    "    for i in range(len(tup)):\n",
    "        for j in range(0, len(tup) - i - 1):\n",
    "            if tup[j][1] > tup[j + 1][1]:\n",
    "\n",
    "                tup[j], tup[j + 1] = tup[j + 1], tup[j]\n",
    "    \n",
    "    \n",
    "    d1 = dict(tup)\n",
    "    return d1\n",
    "\n"
   ]
  },
  {
   "cell_type": "code",
   "execution_count": 281,
   "id": "deac7ba4",
   "metadata": {},
   "outputs": [
    {
     "name": "stdout",
     "output_type": "stream",
     "text": [
      "{'b': 1, 'a': 3}\n"
     ]
    }
   ],
   "source": [
    "input={'a':3, 'b':1}\n",
    "print(sort_values(input))"
   ]
  },
  {
   "cell_type": "markdown",
   "id": "923a13f3",
   "metadata": {},
   "source": [
    "# 11. Dictionary Intersection\n",
    "\n",
    "## Problem Statement:\n",
    "Write a function that returns a dictionary containing keys common to two dictionaries with values from the first dictionary.\n",
    "\n",
    "## Example 1:\n",
    "**Input:** `{'a':1, 'b':2}, {'b':4, 'c':3}`  \n",
    "**Output:** `{'b':2}`\n",
    "\n",
    "## Example 2:\n",
    "**Input:** `{'x':5}, {'y':5}`  \n",
    "**Output:** `{}`\n"
   ]
  },
  {
   "cell_type": "code",
   "execution_count": 282,
   "id": "463eed21",
   "metadata": {},
   "outputs": [],
   "source": [
    "def intesection(d1,d2):\n",
    "    common={}\n",
    "    \n",
    "    for k1,v in d1.items():\n",
    "        for k2,v2 in d2.items():\n",
    "         if k1==k2:\n",
    "        \n",
    "           common={k1,v}\n",
    "    \n",
    "    \n",
    "    return common"
   ]
  },
  {
   "cell_type": "code",
   "execution_count": 283,
   "id": "8ea06653",
   "metadata": {},
   "outputs": [
    {
     "name": "stdout",
     "output_type": "stream",
     "text": [
      "{2, 'b'}\n"
     ]
    }
   ],
   "source": [
    "input={'a':1, 'b':2}\n",
    "input2={'b':4, 'c':3}\n",
    "print(intesection(input,input2))"
   ]
  },
  {
   "cell_type": "markdown",
   "id": "328b85be",
   "metadata": {},
   "source": [
    "# 14. Filter Dictionary by Values\n",
    "\n",
    "## Problem Statement:\n",
    "Write a function to filter a dictionary, keeping only items where the value is greater than a given number.\n",
    "\n",
    "## Example 1:\n",
    "**Input:** `{'a':5, 'b':2, 'c':8}, 4`  \n",
    "**Output:** `{'a':5, 'c':8}`\n",
    "\n",
    "## Example 2:\n",
    "**Input:** `{'x':1, 'y':3}, 2`  \n",
    "**Output:** `{'y':3}`\n"
   ]
  },
  {
   "cell_type": "code",
   "execution_count": 284,
   "id": "58e19b37",
   "metadata": {},
   "outputs": [],
   "source": [
    "def filter(d1,n):\n",
    "    d2={}\n",
    "    for k,v in d1.items():\n",
    "        if v >n:\n",
    "            d2[k]=v\n",
    "    return d2\n",
    "\n",
    "    \n",
    "    \n"
   ]
  },
  {
   "cell_type": "code",
   "execution_count": 285,
   "id": "55c9884b",
   "metadata": {},
   "outputs": [
    {
     "name": "stdout",
     "output_type": "stream",
     "text": [
      "{'a': 5, 'c': 8}\n"
     ]
    }
   ],
   "source": [
    "input={'a':5, 'b':2, 'c':8}\n",
    "n=4\n",
    "print(filter(input,n))"
   ]
  },
  {
   "cell_type": "markdown",
   "id": "b37b6bd2",
   "metadata": {},
   "source": [
    "# 16. Dictionary from List of Tuples\n",
    "\n",
    "## Problem Statement:\n",
    "Write a function that converts a list of tuples into a dictionary, combining values for duplicate keys into lists.\n",
    "\n",
    "## Example 1:\n",
    "**Input:** `[('a',1), ('b',2), ('a',3)]`  \n",
    "**Output:** `{'a':[1,3], 'b':[2]}`\n",
    "\n",
    "## Example 2:\n",
    "**Input:** `[('x',4)]`  \n",
    "**Output:** `{'x':[4]}`\n"
   ]
  },
  {
   "cell_type": "code",
   "execution_count": 286,
   "id": "0cabcc36",
   "metadata": {},
   "outputs": [],
   "source": [
    "def tup_to_dic(list):\n",
    "    d1={}\n",
    "    for k,v in list:\n",
    "        if k in d1:\n",
    "            d1[k].append(v)\n",
    "        else:\n",
    "            d1[k]=[v]\n",
    "    return d1"
   ]
  },
  {
   "cell_type": "code",
   "execution_count": 287,
   "id": "1ba92174",
   "metadata": {},
   "outputs": [
    {
     "name": "stdout",
     "output_type": "stream",
     "text": [
      "{'a': [1, 3], 'b': [2]}\n"
     ]
    }
   ],
   "source": [
    "input=[('a',1), ('b',2), ('a',3)]\n",
    "print(tup_to_dic(input))"
   ]
  },
  {
   "cell_type": "markdown",
   "id": "a2f6a871",
   "metadata": {},
   "source": [
    "# 17. Increment Dictionary Values\n",
    "\n",
    "## Problem Statement:\n",
    "Write a function to increment all integer values in a dictionary by a specified number.\n",
    "\n",
    "## Example 1:\n",
    "**Input:** `{'a':1, 'b':2}, 3`  \n",
    "**Output:** `{'a':4, 'b':5}`\n",
    "\n",
    "## Example 2:\n",
    "**Input:** `{'x':10}, -2`  \n",
    "**Output:** `{'x':8}`\n"
   ]
  },
  {
   "cell_type": "code",
   "execution_count": 288,
   "id": "2cae3f6e",
   "metadata": {},
   "outputs": [],
   "source": [
    "def increment(d1,n):\n",
    "    d2={}\n",
    "    for k,v in d1.items():\n",
    "        d2[k]=v+n\n",
    "\n",
    "    return d2\n",
    "    "
   ]
  },
  {
   "cell_type": "code",
   "execution_count": 289,
   "id": "5a8c4696",
   "metadata": {},
   "outputs": [
    {
     "name": "stdout",
     "output_type": "stream",
     "text": [
      "{'x': 8}\n"
     ]
    }
   ],
   "source": [
    "input={\"x\":10}\n",
    "n=-2\n",
    "print(increment(input,n))"
   ]
  },
  {
   "cell_type": "markdown",
   "id": "1a4997f3",
   "metadata": {},
   "source": [
    "# 18. Find Duplicates in List Using Dictionary\n",
    "\n",
    "## Problem Statement:\n",
    "Write a function to find all elements that appear more than once in a list, using a dictionary.\n",
    "\n",
    "## Example 1:\n",
    "**Input:** `[1,2,2,3,4,4,4]`  \n",
    "**Output:** `[2,4]`\n",
    "\n",
    "## Example 2:\n",
    "**Input:** `['a','b','c','a']`  \n",
    "**Output:** `['a']`\n"
   ]
  },
  {
   "cell_type": "code",
   "execution_count": 290,
   "id": "35f77861",
   "metadata": {},
   "outputs": [],
   "source": [
    "def duplicates(lis):\n",
    "    d2=freq_counter(lis)\n",
    "    dup=[]\n",
    "    for k,v in d2.items():\n",
    "        if v>1:\n",
    "            dup.append(k)\n",
    "\n",
    "    return dup\n",
    "        \n",
    "\n",
    "    \n",
    "    \n"
   ]
  },
  {
   "cell_type": "code",
   "execution_count": 291,
   "id": "e2d4570d",
   "metadata": {},
   "outputs": [
    {
     "name": "stdout",
     "output_type": "stream",
     "text": [
      "['a']\n"
     ]
    }
   ],
   "source": [
    "input=['a','b','c','a']\n",
    "print(duplicates(input))"
   ]
  },
  {
   "cell_type": "markdown",
   "id": "37dab363",
   "metadata": {},
   "source": [
    "# 19. Merge Dictionaries Summing Values\n",
    "\n",
    "## Problem Statement:\n",
    "Write a function to merge two dictionaries, summing values for common keys.\n",
    "\n",
    "## Example 1:\n",
    "**Input:** `{'a':2, 'b':3}, {'a':3, 'c':1}`  \n",
    "**Output:** `{'a':5, 'b':3, 'c':1}`\n",
    "\n",
    "## Example 2:\n",
    "**Input:** `{'x':1}, {'x':-1}`  \n",
    "**Output:** `{'x':0}`\n"
   ]
  },
  {
   "cell_type": "code",
   "execution_count": 292,
   "id": "f6b073b2",
   "metadata": {},
   "outputs": [],
   "source": [
    "def common_sum(d1,d2):\n",
    "    \n",
    "    for k1,v1 in d2.items():\n",
    "       if k1 in d1:\n",
    "           d1[k1]=v1+d1[k1]\n",
    "       if k1 not in d1:\n",
    "           d1[k1]=v1\n",
    "\n",
    "        \n",
    "    return d1"
   ]
  },
  {
   "cell_type": "code",
   "execution_count": 293,
   "id": "4931ea97",
   "metadata": {},
   "outputs": [
    {
     "name": "stdout",
     "output_type": "stream",
     "text": [
      "{'a': 5, 'b': 3, 'c': 1}\n"
     ]
    }
   ],
   "source": [
    "input={'a':2, 'b':3}\n",
    "input2={'a':3, 'c':1}\n",
    "print(common_sum(input,input2))"
   ]
  },
  {
   "cell_type": "markdown",
   "id": "01937f89",
   "metadata": {},
   "source": [
    "# 20. Dictionary of Lists to Dictionary of Sums\n",
    "\n",
    "## Problem Statement:\n",
    "Write a function to convert a dictionary of lists into a dictionary of sums.\n",
    "\n",
    "## Example 1:\n",
    "**Input:** `{'a':[1,2,3], 'b':[4,5]}`  \n",
    "**Output:** `{'a':6, 'b':9}`\n",
    "\n",
    "## Example 2:\n",
    "**Input:** `{'x':[10]}`  \n",
    "**Output:** `{'x':10}`\n"
   ]
  },
  {
   "cell_type": "code",
   "execution_count": 294,
   "id": "02599144",
   "metadata": {},
   "outputs": [],
   "source": [
    "def sum(lis):\n",
    "    sum=0\n",
    "    for a in lis:\n",
    "        sum+=a\n",
    "    return sum\n",
    "   \n",
    "def sums(d1):\n",
    "    sum1=0\n",
    "    d2={}\n",
    "    for k,v in d1.items():\n",
    "        sum1=sum(v)\n",
    "        d2[k]=sum1\n",
    "    return d2"
   ]
  },
  {
   "cell_type": "code",
   "execution_count": 295,
   "id": "551ecc09",
   "metadata": {},
   "outputs": [
    {
     "name": "stdout",
     "output_type": "stream",
     "text": [
      "{'a': 6, 'b': 9}\n"
     ]
    }
   ],
   "source": [
    "input={'a':[1,2,3], 'b':[4,5]}\n",
    "print(sums(input))\n"
   ]
  }
 ],
 "metadata": {
  "kernelspec": {
   "display_name": "base",
   "language": "python",
   "name": "python3"
  },
  "language_info": {
   "codemirror_mode": {
    "name": "ipython",
    "version": 3
   },
   "file_extension": ".py",
   "mimetype": "text/x-python",
   "name": "python",
   "nbconvert_exporter": "python",
   "pygments_lexer": "ipython3",
   "version": "3.12.9"
  }
 },
 "nbformat": 4,
 "nbformat_minor": 5
}
